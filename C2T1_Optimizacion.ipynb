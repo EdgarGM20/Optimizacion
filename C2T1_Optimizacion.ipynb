{
  "cells": [
    {
      "cell_type": "markdown",
      "metadata": {
        "id": "view-in-github",
        "colab_type": "text"
      },
      "source": [
        "<a href=\"https://colab.research.google.com/github/EdgarGM20/Optimizacion/blob/main/C2T1_Optimizacion.ipynb\" target=\"_parent\"><img src=\"https://colab.research.google.com/assets/colab-badge.svg\" alt=\"Open In Colab\"/></a>"
      ]
    },
    {
      "cell_type": "markdown",
      "metadata": {
        "deletable": false,
        "editable": false,
        "nbgrader": {
          "cell_type": "markdown",
          "checksum": "fe3b9e22b19ab75f9bf2358460884c91",
          "grade": false,
          "grade_id": "cell-6be0347b6c6fdde0",
          "locked": true,
          "schema_version": 3,
          "solution": false,
          "task": false
        },
        "id": "tcrKbU-s1BIn"
      },
      "source": [
        "# Caso 2: mezcla de canales digitales\n",
        "\n",
        "---\n",
        "## Maestría en Inteligencia Analítica de Datos\n",
        "\n",
        "* **Profesor**: \n",
        "    * *Andrés Medaglia*\n",
        "* **Tutor Líder**:\n",
        "    * *Alfaima Solano*\n",
        "* **Tutores**: \n",
        "    * *Johan Camacho*\n",
        "    * *Nicolás Robayo*\n",
        "    * *Alejandro Mantilla*\n",
        "    * *Santiago Pérez*\n",
        "    * *Juan Pablo Rodríguez*"
      ],
      "id": "tcrKbU-s1BIn"
    },
    {
      "cell_type": "markdown",
      "metadata": {
        "deletable": false,
        "editable": false,
        "nbgrader": {
          "cell_type": "markdown",
          "checksum": "5c82db0f6e1b56bae7541d41636ec767",
          "grade": false,
          "grade_id": "cell-da6a7ef22d5a66a8",
          "locked": true,
          "schema_version": 3,
          "solution": false,
          "task": false
        },
        "id": "8fRxTI3r1BIs"
      },
      "source": [
        "## Instrucciones generales\n",
        "\n",
        "El primer paso antes de resolver este laboratorio es leer y entender el **enunciado del caso**. Una vez tengas claro el caso, te explicamos la estructura de este laboratorio (los demás laboratorios siguen una estrucutra similar). \n",
        "\n",
        "Este laboratorio tiene las siguientes secciones: \n",
        "* **Formulación**: un breve resumen del modelo con notación matemática y descripción de sus componentes\n",
        "* **Importación de librerías**\n",
        "* **Creación de parámetros**\n",
        "* **Modelamiento**: aquí implementamos el modelo visto en la formulación (aquí encontrarás por lo general celdas de código que debes completar, ¡nosotros te guiaremos en el proceso!)\n",
        "* **Reporte de Resultados**: esta sección nos muestra las soluciones encontradas por el modelo y, en ocasiones, algunas visualizaciones interesantes para entenderlo mejor. (es posible que en ciertas prácticas debas completar algunas celdas también)\n",
        "\n",
        "Este tipo de actividades se evaluará sobre un total de 100 puntos. Las celdas calificables se distinguen por tener la instrucción `# Escribe tu código a continuación`. Antes de estas celdas  encontrarás instrucciones y consejos para resolver las preguntas, también el puntaje que le corresponde.\n",
        "\n",
        "¡Éxitos!"
      ],
      "id": "8fRxTI3r1BIs"
    },
    {
      "cell_type": "markdown",
      "metadata": {
        "deletable": false,
        "editable": false,
        "nbgrader": {
          "cell_type": "markdown",
          "checksum": "8e7b7365c2853f2c3e7c2c9dfe5a73ee",
          "grade": false,
          "grade_id": "cell-c11ef687a2132a2b",
          "locked": true,
          "schema_version": 3,
          "solution": false,
          "task": false
        },
        "id": "4pp0s1Zf1BIt"
      },
      "source": [
        "## Formulación\n",
        "---\n",
        "\n",
        "Te presentamos la formulación del caso de la semana de forma resumida. Te recomendamos revisar la formulación una vez hayas leído el enunciado del caso. Es bueno que te familiarices con los elementos de la formulación antes de iniciar la implementación.\n",
        "\n",
        "### Conjuntos y Parámetros\n",
        ">#### **Conjuntos**\n",
        ">* $I$: conjunto de canales de mercadeo.\n",
        "\n",
        ">#### **Parámetros**\n",
        ">* $a_i:$ incremento en ventas por cada dólar invertido en el canal $i \\in I$\n",
        ">* $c_i:$ presupuesto máximo para invertir en el canal $i\\in I$\n",
        ">* $p:$ presupuesto total para la campaña\n",
        ">* $q:$ mínimo porcentaje de inversión en el canal Facebook\n",
        "\n",
        "### Variables de Decisión\n",
        "> $x_i:$ dinero a ser invertido (en USD) en el canal $i\\in I$\n",
        "\n",
        "\n",
        "### Restricciones\n",
        "> 1. Cada canal $i\\in I$ tiene un máximo posible de inversión estipulado $c_i$\n",
        ">> $x_i \\leq c_i, \\; \\forall i\\in I$\n",
        "\n",
        "> 2. El presupuesto global para la campaña es de $p$\n",
        ">> $\\sum_{i\\in I} x_i \\leq p$\n",
        "\n",
        "> 3. La inversión en las publicaciones promocionadas de Facebook debe seguir siendo superior a q (0.3) del total de inversión.\n",
        ">> $q*\\sum_{i\\in I}x_i \\leq x_{\\text{Facebook}}$\n",
        "\n",
        "> **Naturaleza de Variables**\n",
        ">>$x_i\\geq 0 , \\; \\forall i\\in I$\n",
        "\n",
        "### Función Objetivo\n",
        "> Maximizar el incremento en ventas dado por la inversión en canales de mercadeo.\n",
        ">> $\\max{ \\sum_{i\\in I} a_ix_i}$"
      ],
      "id": "4pp0s1Zf1BIt"
    },
    {
      "cell_type": "markdown",
      "metadata": {
        "deletable": false,
        "editable": false,
        "nbgrader": {
          "cell_type": "markdown",
          "checksum": "70ffff8e2890b2552270ad7129d5ca0b",
          "grade": false,
          "grade_id": "cell-983ada4fc8bc8836",
          "locked": true,
          "schema_version": 3,
          "solution": false,
          "task": false
        },
        "id": "qD2Eqzj81BIu"
      },
      "source": [
        "## Importación de librerías\n",
        "---\n",
        "En este curso usaremos el paquete/librería `pulp` en su versión 2.4. Este paquete proporciona un modelador de problemas lineales de optimización para Python. Su API permite crear variables, añadir restricciones y llamar optimizadores (gratuitos y pagos para resolver problemas). A través de este paquete se generan los archivos `LP`que son usados por los *optimizadores* para ejecutar los algoritmos de optimización. `pulp` utiliza por defecto el optimizador CBC que es mantenido por la comunidad de [COIN-OR](https://www.coin-or.org) y es de fuente libre. También puede ser usado con optimizadores pagos como Gurobi o CPLEX. Su alias para este curso el `lp`. Si deseas conocer más, puedes visitar:\n",
        ">**GitHub**: https://github.com/coin-or/pulp\n",
        "\n",
        ">**Documentación**: https://coin-or.github.io/pulp/\n",
        "\n",
        "La forma más fácil de instalar `pulp` es a través de PyPi ejecutando el comando de `pip`: ` python -m pip install pulp` en la consola. También está disponible en conda y [conda-forge](https://anaconda.org/conda-forge/pulp)\n",
        "\n",
        "Con el paquete `pulp` introduciremos métodos para crear diccionarios de variables (basados en conjuntos) y una forma fácil de formular expresiones que usan conjuntos en las sumas.\n",
        "\n",
        "> **Recuerda** que el alias de `pulp` es `lp` y que como estándar el nombre del objeto que guardará el problema de optimización se llamará `problema`."
      ],
      "id": "qD2Eqzj81BIu"
    },
    {
      "cell_type": "code",
      "execution_count": null,
      "metadata": {
        "deletable": false,
        "editable": false,
        "nbgrader": {
          "cell_type": "code",
          "checksum": "8506bf6802d8a3d9f7a6c7a3fb8b97fb",
          "grade": false,
          "grade_id": "cell-81bb7a6952a9e1b5",
          "locked": true,
          "schema_version": 3,
          "solution": false,
          "task": false
        },
        "colab": {
          "base_uri": "https://localhost:8080/"
        },
        "id": "SPvYWFXX1BIv",
        "outputId": "d077429a-7125-411e-fc18-b620565378d8"
      },
      "outputs": [
        {
          "output_type": "stream",
          "name": "stdout",
          "text": [
            "Collecting pulp\n",
            "  Downloading PuLP-2.6.0-py3-none-any.whl (14.2 MB)\n",
            "\u001b[K     |████████████████████████████████| 14.2 MB 8.6 MB/s \n",
            "\u001b[?25hInstalling collected packages: pulp\n",
            "Successfully installed pulp-2.6.0\n"
          ]
        }
      ],
      "source": [
        "!pip install pulp\n",
        "import pulp as lp\n",
        "import numpy as np\n",
        "import matplotlib.pyplot as plt\n"
      ],
      "id": "SPvYWFXX1BIv"
    },
    {
      "cell_type": "markdown",
      "metadata": {
        "deletable": false,
        "editable": false,
        "nbgrader": {
          "cell_type": "markdown",
          "checksum": "0575e47f92a5fd5ae901beb4d57800ac",
          "grade": false,
          "grade_id": "cell-284326f1ee27ec51",
          "locked": true,
          "schema_version": 3,
          "solution": false,
          "task": false
        },
        "id": "qqPvf9mh1BIw"
      },
      "source": [
        "## Creación de Parámetros\n",
        "---\n",
        "\n",
        "Para este caso nuestro único conjunto son los canales de mercadeo que escogeremos. Haremos una lista de Python donde guardaremos el nombre de cada canal. "
      ],
      "id": "qqPvf9mh1BIw"
    },
    {
      "cell_type": "markdown",
      "metadata": {
        "deletable": false,
        "editable": false,
        "nbgrader": {
          "cell_type": "markdown",
          "checksum": "139ba3454d6cc12f63db83062ed64521",
          "grade": false,
          "grade_id": "cell-ca8f0236477fa64a",
          "locked": true,
          "schema_version": 3,
          "solution": false,
          "task": false
        },
        "id": "103E9Nqc1BIx"
      },
      "source": [
        "### Conjuntos\n",
        "$I$: Conjunto de canales de mercadeo"
      ],
      "id": "103E9Nqc1BIx"
    },
    {
      "cell_type": "code",
      "execution_count": null,
      "metadata": {
        "deletable": false,
        "editable": false,
        "nbgrader": {
          "cell_type": "code",
          "checksum": "21fc864f66503477ac0c30d5504d38b3",
          "grade": false,
          "grade_id": "cell-df274dae63b7d25a",
          "locked": true,
          "schema_version": 3,
          "solution": false,
          "task": false
        },
        "id": "Og8Ok6yl1BIy"
      },
      "outputs": [],
      "source": [
        "I = [\"Facebook\", \"YouTube\", \"Twitter\", \"TikTok\", \"LinkedIn\"]"
      ],
      "id": "Og8Ok6yl1BIy"
    },
    {
      "cell_type": "markdown",
      "metadata": {
        "deletable": false,
        "editable": false,
        "nbgrader": {
          "cell_type": "markdown",
          "checksum": "6dfcbf8b58dea7e1d1dc71ceec8c2a86",
          "grade": false,
          "grade_id": "cell-35d881a070f59d12",
          "locked": true,
          "schema_version": 3,
          "solution": false,
          "task": false
        },
        "id": "dd5X-x_F1BIy"
      },
      "source": [
        "### Parámetros\n",
        "* $a_i:$ Incremento en ventas por cada dólar invertido en el canal $i \\in I$\n",
        "* $c_i:$ Presupuesto máximo para invertir en el canal $i\\in I$\n",
        "* $p:$ Presupuesto total para la campaña\n",
        "* $q:$ Mínimo porcentaje de inversión en el canal Facebook\n"
      ],
      "id": "dd5X-x_F1BIy"
    },
    {
      "cell_type": "markdown",
      "metadata": {
        "deletable": false,
        "editable": false,
        "nbgrader": {
          "cell_type": "markdown",
          "checksum": "68ef820f72196ce25bd653af401c6827",
          "grade": false,
          "grade_id": "cell-ca40d34242cb874a",
          "locked": true,
          "schema_version": 3,
          "solution": false,
          "task": false
        },
        "id": "8fEdoYPL1BIz"
      },
      "source": [
        "Para crear los parámetros construiremos diccionarios cuyas **llaves** correspondan los índices del conjunto y como **valores** el valor del parámetro correspondiente. "
      ],
      "id": "8fEdoYPL1BIz"
    },
    {
      "cell_type": "code",
      "execution_count": null,
      "metadata": {
        "deletable": false,
        "editable": false,
        "nbgrader": {
          "cell_type": "code",
          "checksum": "acf69f5196b59347c230a30049484665",
          "grade": false,
          "grade_id": "cell-014d17c13a6f6fef",
          "locked": true,
          "schema_version": 3,
          "solution": false,
          "task": false
        },
        "id": "zRegcou51BIz"
      },
      "outputs": [],
      "source": [
        "a = {canal: val for canal, val in zip(I, (2,5,3,4.5,2.9))} #Incremento en ventas por dolar invertido en cada canal\n",
        "c = {canal: val for canal, val in zip(I, (3000,4000,2000,2000,3000))} #Presupuesto máximo para invertir en cada canal\n",
        "p = 10000 #Presupuesto total para la campaña\n",
        "q = 0.3   #Mínimo porcentaje de inversión en el canal 'Facebook' (30%)"
      ],
      "id": "zRegcou51BIz"
    },
    {
      "cell_type": "markdown",
      "metadata": {
        "deletable": false,
        "editable": false,
        "nbgrader": {
          "cell_type": "markdown",
          "checksum": "6fa21a10ac0e50472ab34490f734308c",
          "grade": false,
          "grade_id": "cell-00705cef00167fde",
          "locked": true,
          "schema_version": 3,
          "solution": false,
          "task": false
        },
        "id": "wwynRApN1BI0"
      },
      "source": [
        "**Celda de Prueba (0 puntos)**\n",
        "\n",
        "Recomendación: Una buena práctica es explorar los datos de entrada del problema antes de empezar a implementarlo y resolverlo. Por ejemplo, uno podría entender el contexto los datos al graficarlos o explorando las tablas o estructuras en las que vienen. \n",
        "* **Esta celda no es calificable**"
      ],
      "id": "wwynRApN1BI0"
    },
    {
      "cell_type": "code",
      "execution_count": null,
      "metadata": {
        "colab": {
          "base_uri": "https://localhost:8080/"
        },
        "id": "m7qcAFWw1BI0",
        "outputId": "17d26211-bf6e-425c-8527-b91ccc7bd5fe"
      },
      "outputs": [
        {
          "output_type": "stream",
          "name": "stdout",
          "text": [
            "incremento en ventas: \n",
            " {'Facebook': 2, 'YouTube': 5, 'Twitter': 3, 'TikTok': 4.5, 'LinkedIn': 2.9}\n",
            "presupuesto máximo: \n",
            " {'Facebook': 3000, 'YouTube': 4000, 'Twitter': 2000, 'TikTok': 2000, 'LinkedIn': 3000}\n"
          ]
        }
      ],
      "source": [
        "### Aquí puedes explorar los parámetros\n",
        "print(\"incremento en ventas: \\n\", a)\n",
        "print(\"presupuesto máximo: \\n\", c)"
      ],
      "id": "m7qcAFWw1BI0"
    },
    {
      "cell_type": "markdown",
      "metadata": {
        "deletable": false,
        "editable": false,
        "nbgrader": {
          "cell_type": "markdown",
          "checksum": "6f606b322769d2dd8b7d6e70494a8ded",
          "grade": false,
          "grade_id": "cell-f27ba0db228d3286",
          "locked": true,
          "schema_version": 3,
          "solution": false,
          "task": false
        },
        "id": "Yq6xXqKK1BI1"
      },
      "source": [
        "## Modelamiento\n",
        "---"
      ],
      "id": "Yq6xXqKK1BI1"
    },
    {
      "cell_type": "markdown",
      "metadata": {
        "deletable": false,
        "editable": false,
        "nbgrader": {
          "cell_type": "markdown",
          "checksum": "71e64ca9ed31c1b0d48110a28808c74b",
          "grade": false,
          "grade_id": "cell-c598d0df97aafe10",
          "locked": true,
          "schema_version": 3,
          "solution": false,
          "task": false
        },
        "id": "EoNS0GMJ1BI1"
      },
      "source": [
        "### Declaración del modelo\n",
        "El primer paso para desarrollar un problema de optimización en `pulp` es declarar el objeto `lp.LpProblem` en el cual podemos agregar variables, restricciones y la función objetivo. Como convención para todos los trabajos y entregas de este curso, este objeto se llamará `problema`. Este objeto nos permite añadir los componentes del problema de optimización.\n",
        "\n",
        "El método `lp.LpProblem()` crea un problema lineal de optimización."
      ],
      "id": "EoNS0GMJ1BI1"
    },
    {
      "cell_type": "markdown",
      "metadata": {
        "deletable": false,
        "editable": false,
        "nbgrader": {
          "cell_type": "markdown",
          "checksum": "1ec5db129e1e476d8ba2baa29ec961df",
          "grade": false,
          "grade_id": "cell-d2044139bedbc8b0",
          "locked": true,
          "schema_version": 3,
          "solution": false,
          "task": false
        },
        "id": "jfp_Vi5k1BI2"
      },
      "source": [
        "**Pregunta 1 (10 puntos)**\n",
        "* Crea un objeto modelo en PuLP (`lp.LpProblem`) llamado `problema`\n",
        "* Indica el sentido de la optimización: maximizar o minimizar\n",
        "\n",
        "\n",
        "> **Recuerda** que el sentido se indica con el argumento `sense` en `lp.LpProblem()`, que toma valores `lp.LpMaximize` o `lp.LpMinimize`"
      ],
      "id": "jfp_Vi5k1BI2"
    },
    {
      "cell_type": "code",
      "execution_count": null,
      "metadata": {
        "id": "Z9Rdqzlo1BI2"
      },
      "outputs": [],
      "source": [
        "# Escribe tu código a continuación\n",
        "problema = lp.LpProblem(sense=lp.LpMaximize)"
      ],
      "id": "Z9Rdqzlo1BI2"
    },
    {
      "cell_type": "code",
      "execution_count": null,
      "metadata": {
        "deletable": false,
        "editable": false,
        "nbgrader": {
          "cell_type": "code",
          "checksum": "fb755707c1882f88512e5899bc4311d3",
          "grade": true,
          "grade_id": "cell-7f07b4c4a8370e6b",
          "locked": true,
          "points": 10,
          "schema_version": 3,
          "solution": false,
          "task": false
        },
        "id": "R_S_QpjP1BI2"
      },
      "outputs": [],
      "source": [
        "# Esta celda esta reservada para uso del equipo docente"
      ],
      "id": "R_S_QpjP1BI2"
    },
    {
      "cell_type": "code",
      "execution_count": null,
      "metadata": {
        "deletable": false,
        "editable": false,
        "nbgrader": {
          "cell_type": "code",
          "checksum": "66118e66e006917c896b715c335cf196",
          "grade": true,
          "grade_id": "cell-e7c17416f0e86d50",
          "locked": true,
          "points": 0,
          "schema_version": 3,
          "solution": false,
          "task": false
        },
        "id": "QiOWJCnT1BI3"
      },
      "outputs": [],
      "source": [
        "# Esta celda esta reservada para uso del equipo docente"
      ],
      "id": "QiOWJCnT1BI3"
    },
    {
      "cell_type": "markdown",
      "metadata": {
        "deletable": false,
        "editable": false,
        "nbgrader": {
          "cell_type": "markdown",
          "checksum": "f40e14cb1cd6b3a519ed394c7f657035",
          "grade": false,
          "grade_id": "cell-55d47def8914e798",
          "locked": true,
          "schema_version": 3,
          "solution": false,
          "task": false
        },
        "id": "fj2nHW_o1BI3"
      },
      "source": [
        "## Variables de decisión\n",
        "* $x_i:$ Dinero a ser invertido (en USD) en el canal de mercadeo $i\\in I$"
      ],
      "id": "fj2nHW_o1BI3"
    },
    {
      "cell_type": "markdown",
      "metadata": {
        "deletable": false,
        "editable": false,
        "nbgrader": {
          "cell_type": "markdown",
          "checksum": "3e2857b2ff85915abea98027038117eb",
          "grade": false,
          "grade_id": "cell-f83b2ae3f8095d8b",
          "locked": true,
          "schema_version": 3,
          "solution": false,
          "task": false
        },
        "id": "3j6LXYvE1BI3"
      },
      "source": [
        "**Pregunta 2 (20 puntos)**\n",
        "\n",
        "* Crea las variables del modelo: `x`, usando el método `lp.LpVariable.dicts()`\n",
        "* Especifica el nombre de las variables como `'canales'` con el argumento `name`\n",
        "* Especifica los índices de las variables con el argumento `indexs` (aquí debes colocar el conjunto)\n",
        "* Especifica el tipo de variable con el argumento `cat` (continua: `lp.LpContinuous`, entera: `lp.LpInteger` o binaria: `lp.LpBinary`)\n",
        "* Especifica el límite inferior en 0 con el argumento `lowBound`\n",
        "\n",
        "> **Para crear una variable** usa el método `lp.LpVariable.dicts(name, indexs, lowBound=None, upBound=None, cat='Continuous')`\n",
        "\n",
        "> Donde:\n",
        "> - `name`: el nombre de la variable\n",
        "> - `indexs`: lista de las llaves que tendrá el diccionario de variables. Normalmente corresponde a los conjuntos\n",
        "> - `lowBound`: el límite inferior de la variable. Por defecto es `None`, esto es, el infinito negativo\n",
        "> - `upBound` : el límite superior de la variable. Por defecto es `None`, esto es, el infinito positivo\n",
        "> - `cat`: el tipo de variable: continua: `lp.LpContinuous`, entera: `lp.LpInteger` o binaria: `lp.LpBinary`\n"
      ],
      "id": "3j6LXYvE1BI3"
    },
    {
      "cell_type": "code",
      "execution_count": null,
      "metadata": {
        "colab": {
          "base_uri": "https://localhost:8080/"
        },
        "id": "6JZMN6sG1BI3",
        "outputId": "c7904781-1a89-40a4-a631-a3af8a356afa"
      },
      "outputs": [
        {
          "output_type": "stream",
          "name": "stderr",
          "text": [
            "/usr/local/lib/python3.7/dist-packages/ipykernel_launcher.py:2: DeprecationWarning: 'indexs' is deprecated; use 'indices'.\n",
            "  \n"
          ]
        }
      ],
      "source": [
        "# Escribe tu código a continuación\n",
        "x = lp.LpVariable.dicts('canales', indexs=I, lowBound=0, cat=lp.LpContinuous)"
      ],
      "id": "6JZMN6sG1BI3"
    },
    {
      "cell_type": "code",
      "execution_count": null,
      "metadata": {
        "deletable": false,
        "editable": false,
        "nbgrader": {
          "cell_type": "code",
          "checksum": "5f4748ff54e1657bf0f5066229073ae4",
          "grade": true,
          "grade_id": "cell-67b3c506a48924e6",
          "locked": true,
          "points": 20,
          "schema_version": 3,
          "solution": false,
          "task": false
        },
        "id": "6c00qM_k1BI4"
      },
      "outputs": [],
      "source": [
        "# Esta celda esta reservada para uso del equipo docente"
      ],
      "id": "6c00qM_k1BI4"
    },
    {
      "cell_type": "code",
      "execution_count": null,
      "metadata": {
        "deletable": false,
        "editable": false,
        "nbgrader": {
          "cell_type": "code",
          "checksum": "bc9ac0061c3a22ad7430e13f5d4a61e6",
          "grade": true,
          "grade_id": "cell-18d8c88fbb59115f",
          "locked": true,
          "points": 0,
          "schema_version": 3,
          "solution": false,
          "task": false
        },
        "id": "6cmIlB1n1BI4"
      },
      "outputs": [],
      "source": [
        "# Esta celda esta reservada para uso del equipo docente"
      ],
      "id": "6cmIlB1n1BI4"
    },
    {
      "cell_type": "markdown",
      "metadata": {
        "deletable": false,
        "editable": false,
        "nbgrader": {
          "cell_type": "markdown",
          "checksum": "d98942ecd3cdc494ad87e41e3814bb51",
          "grade": false,
          "grade_id": "cell-29ed870d308e48c3",
          "locked": true,
          "schema_version": 3,
          "solution": false,
          "task": false
        },
        "id": "BQqTmOWa1BI4"
      },
      "source": [
        "### Función Objetivo\n",
        "> Maximizar el incremento en ventas dado por la inversión en canales de mercadeo.\n",
        ">> $\\max{ \\sum_{i\\in I} a_ix_i}$\n"
      ],
      "id": "BQqTmOWa1BI4"
    },
    {
      "cell_type": "markdown",
      "metadata": {
        "deletable": false,
        "editable": false,
        "nbgrader": {
          "cell_type": "markdown",
          "checksum": "a25cb1c30999d98d26dfdc7f0de8d314",
          "grade": false,
          "grade_id": "cell-aeda75d733860738",
          "locked": true,
          "schema_version": 3,
          "solution": false,
          "task": false
        },
        "id": "XdC49pam1BI4"
      },
      "source": [
        "**Pregunta 3 (20 puntos)**\n",
        "* Crea la función objetivo y agregala al modelo `problema`. A continuación, te explicamos como se usan las sumatorias en `pulp`\n",
        "\n",
        "> **Recuerda** que para agregar una función objetivo o restricción a un modelo en pulp se usa la sintaxis: `<modelo> += <expresion>`\n",
        "\n",
        "> **Recuerda** que una función objetivo en `pulp` consiste en multiplicar variables de tipo `lp.pulp.Variable` (como `x`) por constantes así: `<variable>*<int|float>` y luego sumarlas o restarlas así: `<var1>*<const1> + <var2>*<const2>`\n",
        "\n",
        "> **Recuerda** que, para evitar escribir una sumatoria de muchos términos uno a uno, `pulp` permite crear sumatorias que recorran conjuntos siempre y cuando las variables esten indexadas (como `x`). Para esto, utiliza `lp.lpSum((<expresion> for <indices> in <conjuntos>))`. \n",
        "\n",
        "> **Ejemplo**:\n",
        ">> $ \\sum_{i \\in I}c_i x_i$\n",
        "es equivalente a `lp.lpSum((c[i]*x[i] for i in I))`"
      ],
      "id": "XdC49pam1BI4"
    },
    {
      "cell_type": "code",
      "execution_count": null,
      "metadata": {
        "id": "PaohNjz21BI5"
      },
      "outputs": [],
      "source": [
        "# Escribe tu código a continuación\n",
        "problema += lp.lpSum(a[i]*x[i] for i in I)"
      ],
      "id": "PaohNjz21BI5"
    },
    {
      "cell_type": "code",
      "execution_count": null,
      "metadata": {
        "deletable": false,
        "editable": false,
        "nbgrader": {
          "cell_type": "code",
          "checksum": "86e0beabc2c6e194e6d8b71a079c8c3c",
          "grade": true,
          "grade_id": "cell-a5c858637386b013",
          "locked": true,
          "points": 20,
          "schema_version": 3,
          "solution": false,
          "task": false
        },
        "id": "qkcAh6af1BI5"
      },
      "outputs": [],
      "source": [
        "# Esta celda esta reservada para uso del equipo docente"
      ],
      "id": "qkcAh6af1BI5"
    },
    {
      "cell_type": "code",
      "execution_count": null,
      "metadata": {
        "deletable": false,
        "editable": false,
        "nbgrader": {
          "cell_type": "code",
          "checksum": "d48bb51334549e702e234ed109608002",
          "grade": true,
          "grade_id": "cell-c4258564f96cf22f",
          "locked": true,
          "points": 0,
          "schema_version": 3,
          "solution": false,
          "task": false
        },
        "id": "3W-AjbYY1BI5"
      },
      "outputs": [],
      "source": [
        "# Esta celda esta reservada para uso del equipo docente"
      ],
      "id": "3W-AjbYY1BI5"
    },
    {
      "cell_type": "markdown",
      "metadata": {
        "deletable": false,
        "editable": false,
        "nbgrader": {
          "cell_type": "markdown",
          "checksum": "9af1748754a9f89e9f85e1913b3867c8",
          "grade": false,
          "grade_id": "cell-1edc2b7ebfaa0592",
          "locked": true,
          "schema_version": 3,
          "solution": false,
          "task": false
        },
        "id": "yKVg1PzO1BI5"
      },
      "source": [
        "### Restricciones\n",
        "\n",
        "> **Recuerda** que para crear restricciones se debe usar la sintaxis: `<modelo> += <expresion_lado_izq> ==|>=|<= <expresion_lado_der>, 'Nombre_de_la_restriccion'`\n",
        "\n",
        "> **Recuerda** que las expresiones son combinaciones lineales de las variables, como: `<var1>*<const1> + <var2>*<const2>`\n",
        "\n",
        "> **Recuerda** que puedes usar `lp.lpSum()` para crear sumatorias (ver **Pregunta 3**)\n",
        "\n",
        "> **Recuerda** que para crear múltiples restricciones usando $\\forall i \\in I$, se debe utilizar la sintaxis:\n",
        ">>    * `for i in I:` \n",
        ">>       * `<restriccion>`\n",
        "\n",
        "> **Ejemplo**\n",
        ">> La siguiente restricción: $\\sum_{i \\in I} a_{ij} x_{ij} \\geq 1, \\; \\forall j \\in J$ es equivalente a:\n",
        ">>    * `for j in J:`\n",
        ">>        * `<modelo> += lp.lpSum((a[i,j]*x[i,j] for i in I)) >= 1, 'R1_'+str(j)`\n",
        "  \n",
        "> **Advertencia**: `pulp` no permite sobreescribir restricciones, entonces, si ya creaste una restricción y quieres crearla de nuevo para corregir algo, asegúrate de volver a crear el modelo `problema` desde el principio (nosotros haremos esto antes de calificar, no te preocupes)."
      ],
      "id": "yKVg1PzO1BI5"
    },
    {
      "cell_type": "markdown",
      "metadata": {
        "deletable": false,
        "editable": false,
        "nbgrader": {
          "cell_type": "markdown",
          "checksum": "34b96ed0c625cc8a2e5e7d207cc056b8",
          "grade": false,
          "grade_id": "cell-a3e8ec52fde98bf1",
          "locked": true,
          "schema_version": 3,
          "solution": false,
          "task": false
        },
        "id": "VGvarO8U1BI5"
      },
      "source": [
        "**Pregunta 4 (15 puntos)**\n",
        "\n",
        "* Crea la siguiente restricción, asignale el nombre `'R1_'+str(<indice_del_para_todo>)` y añadela al modelo:\n",
        "\n",
        "> 1. Cada canal $i\\in I$ tiene un máximo posible de inversión estipulado $c_i$\n",
        ">> $x_i \\leq c_i ,\\; \\forall i\\in I$"
      ],
      "id": "VGvarO8U1BI5"
    },
    {
      "cell_type": "code",
      "execution_count": null,
      "metadata": {
        "id": "3I92B3t91BI6"
      },
      "outputs": [],
      "source": [
        "# Escribe tu código a continuación\n",
        "for i in I:\n",
        "  problema += x[i] <= c[i], \"R1_\"+i"
      ],
      "id": "3I92B3t91BI6"
    },
    {
      "cell_type": "code",
      "execution_count": null,
      "metadata": {
        "deletable": false,
        "editable": false,
        "nbgrader": {
          "cell_type": "code",
          "checksum": "f76c5266bf407511f438c21fbae395ce",
          "grade": true,
          "grade_id": "cell-c167d9361641915d",
          "locked": true,
          "points": 15,
          "schema_version": 3,
          "solution": false,
          "task": false
        },
        "id": "Vi6x9GiB1BI6"
      },
      "outputs": [],
      "source": [
        "# Esta celda esta reservada para uso del equipo docente"
      ],
      "id": "Vi6x9GiB1BI6"
    },
    {
      "cell_type": "markdown",
      "metadata": {
        "deletable": false,
        "editable": false,
        "nbgrader": {
          "cell_type": "markdown",
          "checksum": "dc3f6a114ab0f53098a8777ac4dfd5f7",
          "grade": false,
          "grade_id": "cell-8a13e7da68561b27",
          "locked": true,
          "schema_version": 3,
          "solution": false,
          "task": false
        },
        "id": "OImodZ001BI6"
      },
      "source": [
        "**Pregunta 5 (15 puntos)**\n",
        "\n",
        "* Crea la siguiente restricción, asignale el nombre `'R2'` y añadela al modelo:\n",
        "\n",
        "> 2. El presupuesto global para la campaña es de $p$\n",
        ">> $\\sum_{i\\in I} x_i \\leq p$"
      ],
      "id": "OImodZ001BI6"
    },
    {
      "cell_type": "code",
      "execution_count": null,
      "metadata": {
        "id": "RGT27hZa1BI6"
      },
      "outputs": [],
      "source": [
        "# Escribe tu código a continuación\n",
        "problema += lp.lpSum([x[i] for i in I]) <= p, \"R2\""
      ],
      "id": "RGT27hZa1BI6"
    },
    {
      "cell_type": "code",
      "execution_count": null,
      "metadata": {
        "deletable": false,
        "editable": false,
        "nbgrader": {
          "cell_type": "code",
          "checksum": "4c3397e7bb6f6df779ba4ccfe4439e9e",
          "grade": true,
          "grade_id": "cell-86c0d961c3db027e",
          "locked": true,
          "points": 15,
          "schema_version": 3,
          "solution": false,
          "task": false
        },
        "id": "vkHxTVWX1BI6"
      },
      "outputs": [],
      "source": [
        "# Esta celda esta reservada para uso del equipo docente"
      ],
      "id": "vkHxTVWX1BI6"
    },
    {
      "cell_type": "markdown",
      "metadata": {
        "deletable": false,
        "editable": false,
        "nbgrader": {
          "cell_type": "markdown",
          "checksum": "7f5f258f0fb72460a10616902aa65072",
          "grade": false,
          "grade_id": "cell-f2c67311dfa41b29",
          "locked": true,
          "schema_version": 3,
          "solution": false,
          "task": false
        },
        "id": "gOQQq5ao1BI7"
      },
      "source": [
        "**Pregunta 6 (15 puntos)**\n",
        "\n",
        "* Crea la siguiente restricción, asignale el nombre `'R3'` y añadela al modelo:\n",
        "\n",
        "> 3. La inversión en las publicaciones promocionadas de Facebook debe seguir siendo superior a q (0.3) del total de inversión.\n",
        ">> $q*\\sum_{i\\in I}x_i \\leq x_{\\text{Facebook}}$"
      ],
      "id": "gOQQq5ao1BI7"
    },
    {
      "cell_type": "code",
      "execution_count": null,
      "metadata": {
        "id": "lXwfajuH1BI7"
      },
      "outputs": [],
      "source": [
        "# Escribe tu código a continuación\n",
        "problema += q*lp.lpSum([x[i] for i in I]) <= x['Facebook'], \"R3\""
      ],
      "id": "lXwfajuH1BI7"
    },
    {
      "cell_type": "code",
      "execution_count": null,
      "metadata": {
        "deletable": false,
        "editable": false,
        "nbgrader": {
          "cell_type": "code",
          "checksum": "4ac16a8798c330cd6c01a49f68f493f5",
          "grade": true,
          "grade_id": "cell-e701b97f600bad23",
          "locked": true,
          "points": 15,
          "schema_version": 3,
          "solution": false,
          "task": false
        },
        "id": "f7OqDqA-1BI7"
      },
      "outputs": [],
      "source": [
        "# Esta celda esta reservada para uso del equipo docente"
      ],
      "id": "f7OqDqA-1BI7"
    },
    {
      "cell_type": "code",
      "execution_count": null,
      "metadata": {
        "deletable": false,
        "editable": false,
        "nbgrader": {
          "cell_type": "code",
          "checksum": "5b03809db7cb764e208a2563a155f880",
          "grade": true,
          "grade_id": "cell-567f63c1bc42ba3f",
          "locked": true,
          "points": 0,
          "schema_version": 3,
          "solution": false,
          "task": false
        },
        "id": "AdKc_4A21BI7"
      },
      "outputs": [],
      "source": [
        "# Esta celda esta reservada para uso del equipo docente"
      ],
      "id": "AdKc_4A21BI7"
    },
    {
      "cell_type": "markdown",
      "metadata": {
        "deletable": false,
        "editable": false,
        "nbgrader": {
          "cell_type": "markdown",
          "checksum": "29ff005c0fa625eede45b9b4d0440413",
          "grade": false,
          "grade_id": "cell-cf88d6c16a47eb99",
          "locked": true,
          "schema_version": 3,
          "solution": false,
          "task": false
        },
        "id": "Cc9eqFY81BI7"
      },
      "source": [
        "### Invocar el optimizador\n",
        "\n",
        "Ahora que el modelo está listo, viene la mejor parte: ¡Correr el modelo! La celda a continuación se encarga de llamar al optimizador de `pulp` y guardar las soluciones del modelo (si llega a optimalidad). Más adelante extraeremos la solución y otras métricas de interés del objeto `problema` y del diccionario de variables `x`."
      ],
      "id": "Cc9eqFY81BI7"
    },
    {
      "cell_type": "code",
      "execution_count": null,
      "metadata": {
        "deletable": false,
        "editable": false,
        "nbgrader": {
          "cell_type": "code",
          "checksum": "aa2443a49abc3ef975b50e41f778d876",
          "grade": false,
          "grade_id": "cell-60cd456296f18550",
          "locked": true,
          "schema_version": 3,
          "solution": false,
          "task": false
        },
        "colab": {
          "base_uri": "https://localhost:8080/"
        },
        "id": "FSq1wXnU1BI7",
        "outputId": "8439c2d8-31ba-4af2-e9a3-af71e2cf6fe1"
      },
      "outputs": [
        {
          "output_type": "execute_result",
          "data": {
            "text/plain": [
              "1"
            ]
          },
          "metadata": {},
          "execution_count": 11
        }
      ],
      "source": [
        "problema.solve()"
      ],
      "id": "FSq1wXnU1BI7"
    },
    {
      "cell_type": "markdown",
      "metadata": {
        "deletable": false,
        "editable": false,
        "nbgrader": {
          "cell_type": "markdown",
          "checksum": "3d78ed9bd3a2cda06bded642a2e3165c",
          "grade": false,
          "grade_id": "cell-85de9af009c8d08b",
          "locked": true,
          "schema_version": 3,
          "solution": false,
          "task": false
        },
        "id": "fCJsOd-Q1BI7"
      },
      "source": [
        "## Reporte de resultados\n",
        "---"
      ],
      "id": "fCJsOd-Q1BI7"
    },
    {
      "cell_type": "markdown",
      "metadata": {
        "deletable": false,
        "editable": false,
        "nbgrader": {
          "cell_type": "markdown",
          "checksum": "cdbd1e43e39ba7d28f8850217a0af647",
          "grade": false,
          "grade_id": "cell-d285cb65f019906c",
          "locked": true,
          "schema_version": 3,
          "solution": false,
          "task": false
        },
        "id": "5UqhcrLr1BI8"
      },
      "source": [
        "**Estado del optimizador, función objetivo y otros indicadores**\n",
        "\n",
        "A continuación puede evaluar la función objetivo óptima además de el estado del optimizador.\n",
        "> **Recuerda** que al finalizar de correr el modelo, `<modelo>.status` tomará un valor de 1, -1, -2 o -3, que hace referencia a algún estado del optmizador:\n",
        "*  0 $\\rightarrow$ Sin Resolver: No se ha usado `<modelo>.solve()`\n",
        "*  1 $\\rightarrow$ Óptimo\n",
        "* -1 $\\rightarrow$ Infactible\n",
        "* -2 $\\rightarrow$ No acotado \n",
        "* -3 $\\rightarrow$ Otros\n",
        "\n",
        "> **Recuerda** que `lp.LpStatus` es un diccionario en PuLP que tiene como llaves los `status` del optimizador (número) en `<modelo>.status`, y para cada `status` contiene el estado del optimizador en palabras.\n",
        "\n",
        "> **Recuerda** que puedes inspeccionar el contenido de `lp.LpStatus`, simplemente corriendolo en una celda\n",
        "\n",
        "> **Recuerda** que `<modelo>.objective` contiene la **expresión** de la función objetivo, sin embargo, para conocer el valor de la función objetivo se debe reemplazar los valores de las variables en la solución dentro de esta expresión. Por fortuna, PuLP tiene una función que hace justo eso: `lp.value(<expresion>)`.\n",
        "\n"
      ],
      "id": "5UqhcrLr1BI8"
    },
    {
      "cell_type": "code",
      "execution_count": null,
      "metadata": {
        "deletable": false,
        "editable": false,
        "nbgrader": {
          "cell_type": "code",
          "checksum": "e483520b79d4a3c931f5be317fb4c413",
          "grade": false,
          "grade_id": "cell-41b32445d41ad53d",
          "locked": true,
          "schema_version": 3,
          "solution": false,
          "task": false
        },
        "colab": {
          "base_uri": "https://localhost:8080/"
        },
        "id": "a2MAG7W31BI8",
        "outputId": "3e353518-baf2-424c-caf1-6c4eaad43d6e"
      },
      "outputs": [
        {
          "output_type": "stream",
          "name": "stdout",
          "text": [
            "El incremento en ventas debido a la campaña es =  38000.0\n"
          ]
        }
      ],
      "source": [
        "print(\"El incremento en ventas debido a la campaña es = \", lp.value(problema.objective))"
      ],
      "id": "a2MAG7W31BI8"
    },
    {
      "cell_type": "markdown",
      "metadata": {
        "deletable": false,
        "editable": false,
        "nbgrader": {
          "cell_type": "markdown",
          "checksum": "949017d27372238845a5e5ccc85d1fa0",
          "grade": false,
          "grade_id": "cell-39272c986afd53f0",
          "locked": true,
          "schema_version": 3,
          "solution": false,
          "task": false
        },
        "id": "r9Y7GFOp1BI8"
      },
      "source": [
        "**Pregunta 7 (5 puntos)**\n",
        "\n",
        "Crea un diccionario llamado `resultados`.\n",
        "Coloca como **llaves** los diferentes canales en el conjunto $I$.\n",
        "Coloca como **valores** la cantidad de dinero a invertir en cada canal.\n",
        "\n",
        "Por ejemplo, el primer registro del diccionario se ve así: `\"Facebook\": 3000.0`\n",
        "\n",
        ">**Recuerde** que las variables `LpVariable` se almacenaron en un diccionario llamado `x` el cual tiene como llave el índice (del conjunto $I$) de la variable y como valor el objeto tipo `LpVariable`. \n",
        "\n",
        ">**Recuerde** que para obtener el valor actual de un objeto tipo `LpVariable`  puede usar su método `LpVariable.value()`."
      ],
      "id": "r9Y7GFOp1BI8"
    },
    {
      "cell_type": "code",
      "execution_count": null,
      "metadata": {
        "colab": {
          "base_uri": "https://localhost:8080/"
        },
        "id": "8u9t91dK1BI8",
        "outputId": "c2ffafc0-2161-4988-e768-ca1871263ea0"
      },
      "outputs": [
        {
          "output_type": "execute_result",
          "data": {
            "text/plain": [
              "{'Facebook': 3000.0,\n",
              " 'LinkedIn': 0.0,\n",
              " 'TikTok': 2000.0,\n",
              " 'Twitter': 1000.0,\n",
              " 'YouTube': 4000.0}"
            ]
          },
          "metadata": {},
          "execution_count": 24
        }
      ],
      "source": [
        "# Escribe tu código a continuación\n",
        "#res = {canal: val for canal, val in zip(I, (2,5,3,4.5,2.9))} #Incremento en ventas por dolar invertido en cada canal\n",
        "resultados = {i: x[i].value() for i in I}\n",
        "resultados"
      ],
      "id": "8u9t91dK1BI8"
    },
    {
      "cell_type": "code",
      "execution_count": null,
      "metadata": {
        "deletable": false,
        "editable": false,
        "nbgrader": {
          "cell_type": "code",
          "checksum": "8d89e0b37a817b854d1f7fa2398f55fe",
          "grade": true,
          "grade_id": "cell-f7706bf10f5916f7",
          "locked": true,
          "points": 5,
          "schema_version": 3,
          "solution": false,
          "task": false
        },
        "id": "GNJgbP3O1BI8"
      },
      "outputs": [],
      "source": [
        "# Esta celda esta reservada para uso del equipo docente"
      ],
      "id": "GNJgbP3O1BI8"
    },
    {
      "cell_type": "markdown",
      "metadata": {
        "deletable": false,
        "editable": false,
        "nbgrader": {
          "cell_type": "markdown",
          "checksum": "001c3d235e8adc6dd7ddbc35924639ba",
          "grade": false,
          "grade_id": "cell-f1d532ceea5fd199",
          "locked": true,
          "schema_version": 3,
          "solution": false,
          "task": false
        },
        "id": "y5hPq8hr1BI8"
      },
      "source": [
        "### Fin del laboratorio\n",
        "---\n",
        "Cuando hayas finalizado las preguntas, debes presionar el botón \"Enviar tarea\" en la parte superior.\n",
        "\n",
        "Después de enviar el laboratorio, debes esperar algunos minutos para que se cargue la nota en Coursera.\n",
        "¡Muchos éxitos!"
      ],
      "id": "y5hPq8hr1BI8"
    }
  ],
  "metadata": {
    "kernelspec": {
      "display_name": "Python 3",
      "language": "python",
      "name": "python3"
    },
    "language_info": {
      "codemirror_mode": {
        "name": "ipython",
        "version": 3
      },
      "file_extension": ".py",
      "mimetype": "text/x-python",
      "name": "python",
      "nbconvert_exporter": "python",
      "pygments_lexer": "ipython3",
      "version": "3.7.6"
    },
    "colab": {
      "name": "C2T1_Optimizacion.ipynb",
      "provenance": [],
      "include_colab_link": true
    }
  },
  "nbformat": 4,
  "nbformat_minor": 5
}